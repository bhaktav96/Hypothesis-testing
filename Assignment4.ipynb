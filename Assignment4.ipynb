{
 "cells": [
  {
   "cell_type": "code",
   "execution_count": 1,
   "metadata": {},
   "outputs": [],
   "source": [
    "import pandas as pd\n",
    "import re\n",
    "import matplotlib.pyplot as plt\n",
    "from datetime import datetime\n",
    "\n",
    "\n",
    "#urls to extract information\n",
    "url_1 = \"https://dshs.texas.gov/coronavirus/TexasCOVID19DailyCountyCaseCountData.xlsx\"\n",
    "url_2 = \"https://dshs.texas.gov/coronavirus/TexasCOVID19DailyCountyFatalityCountData.xlsx\"\n",
    "url_3 = \"https://dshs.texas.gov/coronavirus/TexasCOVID-19CumulativeTestsOverTimebyCounty.xlsx\"\n",
    "url_4 = \"https://www2.census.gov/programs-surveys/popest/tables/2010-2019/counties/totals/co-est2019-annres-48.xlsx\"\n",
    "url_tsa = \"https://dshs.texas.gov/coronavirus/CombinedHospitalDataoverTimebyTSA.xlsx\"\n",
    "url_hospital = \"https://data.covidactnow.org/latest/us/counties.NO_INTERVENTION.timeseries.csv\"\n",
    "\n",
    "#reading the data \n",
    "county_cases = pd.read_excel(url_1,skiprows=2)\n",
    "fatality_cases = pd.read_excel(url_2,skiprows = 2)\n",
    "test_cases = pd.read_excel(url_3,skiprows = 1)\n",
    "population = pd.read_excel(url_4,skiprows =3)\n",
    "hospital_data = pd.read_csv(url_hospital)\n",
    "tsa_data = pd.read_excel(url_tsa, skiprows =2 , sheet_name=None)\n",
    "\n",
    "\n",
    "#removing not required columns\n",
    "county_cases = county_cases.truncate(before=0,after=253)\n",
    "fatality_cases = fatality_cases.truncate(before=0,after=253)\n",
    "test_cases = test_cases.truncate(before=0,after=253)\n",
    "population = population.truncate(before=0,after=254)\n",
    "population = population.rename(columns={'Unnamed: 0': 'County'}) # renaming cell name\n",
    "\n",
    "#Removes unrequired naming in County column\n",
    "for index in population.index:\n",
    "    if population.loc[index,'County'] !='Texas':\n",
    "        local = population.at[index,'County']\n",
    "        local = (local.replace('.',''))\n",
    "        local = local.replace(', Texas','')\n",
    "        population.loc[index,'County'] = local\n",
    "\n",
    "#extracting only hospital data of texas\n",
    "texas_hospital_data = pd.DataFrame(columns=list(hospital_data.columns))\n",
    "texas_hospital_data = texas_hospital_data.append(hospital_data.loc[hospital_data['stateName'] == 'Texas'])\n",
    "texas_hospital_data[\"hospitalization\"] = 0"
   ]
  },
  {
   "cell_type": "code",
   "execution_count": 20,
   "metadata": {},
   "outputs": [
    {
     "data": {
      "text/plain": [
       "TSA ID                    U.\n",
       "TSA AREA      Corpus Christi\n",
       "2020-04-12                 9\n",
       "2020-04-13                12\n",
       "2020-04-14                 9\n",
       "                   ...      \n",
       "2020-09-20               107\n",
       "2020-09-21               116\n",
       "2020-09-22               112\n",
       "2020-09-23               115\n",
       "2020-09-24               103\n",
       "Name: 20, Length: 168, dtype: object"
      ]
     },
     "execution_count": 20,
     "metadata": {},
     "output_type": "execute_result"
    }
   ],
   "source": [
    "tsa_data['COVID-19 Hospitalizations'].iloc[20]"
   ]
  },
  {
   "cell_type": "code",
   "execution_count": 3,
   "metadata": {},
   "outputs": [],
   "source": [
    "#tsa_data.keys()"
   ]
  },
  {
   "cell_type": "code",
   "execution_count": 19,
   "metadata": {},
   "outputs": [
    {
     "name": "stdout",
     "output_type": "stream",
     "text": [
      "[1, 2, 3]\n",
      "Yes\n",
      "['This is temp ', 2, 3]\n"
     ]
    }
   ],
   "source": [
    "#corpus chrsiti, Houston\n",
    "tsaCounty = [['Corpus Christi','Aransas','Bee','Brooks','Duval','Jim Wells','Kenedy','Kleberg','Live Oak', 'McMullen','Nueces', 'Refugio','San Patricio'],['Houston','Austin','Colorado','Fort Bend','Harris','Matagorda','Montgomery','Walker','Waller','Wharton'],['Dallas/Ft. Worth','Collin','Cooke','Dallas','Denton','Ellis','Erath','Fannin','Grayson','Hood','Hunt','Johnson','Kaufman','Navarro','Palo Pinto','Parker','Rockwall','Somervell','Tarrant','Wise'],['Austin','Bastrop','Blanco','Burnet','Caldwell','Fayette','Hays','Lee','Llano','San Saba','Travis','Williamson'],['Lubbock','Bailey','Borden','Castro','Cochran','Cottle','Crosby','Dawson','Dicksens','Floyd','Gaines','Garza','Hale','Hockley','Kent','King','Lamb','Lubbock','Lynn','Motley','Scurry','Terry','Yoakum']]"
   ]
  },
  {
   "cell_type": "code",
   "execution_count": null,
   "metadata": {},
   "outputs": [],
   "source": []
  }
 ],
 "metadata": {
  "kernelspec": {
   "display_name": "Python 3",
   "language": "python",
   "name": "python3"
  },
  "language_info": {
   "codemirror_mode": {
    "name": "ipython",
    "version": 3
   },
   "file_extension": ".py",
   "mimetype": "text/x-python",
   "name": "python",
   "nbconvert_exporter": "python",
   "pygments_lexer": "ipython3",
   "version": "3.8.3"
  }
 },
 "nbformat": 4,
 "nbformat_minor": 4
}
